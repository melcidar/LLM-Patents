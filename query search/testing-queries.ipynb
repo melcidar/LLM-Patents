{
 "cells": [
  {
   "cell_type": "markdown",
   "id": "c7066882",
   "metadata": {},
   "source": [
    "For testing patent retrieval based on claim"
   ]
  },
  {
   "cell_type": "markdown",
   "id": "c1061b2e",
   "metadata": {},
   "source": [
    "importing libraries"
   ]
  },
  {
   "cell_type": "code",
   "execution_count": 6,
   "id": "ee3aed7c",
   "metadata": {},
   "outputs": [],
   "source": [
    "import faiss\n",
    "import pandas as pd\n",
    "from sentence_transformers import SentenceTransformer\n",
    "import gc\n",
    "import os\n",
    "from dotenv import load_dotenv"
   ]
  },
  {
   "cell_type": "markdown",
   "id": "46ab7fb2",
   "metadata": {},
   "source": [
    "Importing env"
   ]
  },
  {
   "cell_type": "code",
   "execution_count": 7,
   "id": "40c85447",
   "metadata": {},
   "outputs": [],
   "source": [
    "load_dotenv()\n",
    "\n",
    "cosine_index = os.getenv(\"INDEX_PATH_COSINE\")\n",
    "l2_index = os.getenv(\"INDEX_PATH_L2\")\n",
    "metadata_path = os.getenv(\"METADATA_PATH\")"
   ]
  },
  {
   "cell_type": "markdown",
   "id": "952e43f5",
   "metadata": {},
   "source": [
    "Loading index, metadata and embedding model"
   ]
  },
  {
   "cell_type": "markdown",
   "id": "59e60e35",
   "metadata": {},
   "source": [
    "<p>Two FAISS indices were created, one using cosine similarity, and one using Euclidean distance.</p>"
   ]
  },
  {
   "cell_type": "code",
   "execution_count": null,
   "id": "d818734a",
   "metadata": {},
   "outputs": [],
   "source": [
    "index = faiss.read_index(cosine_index)\n",
    "#index = faiss.read_index(l2_index)\n",
    "metadata = pd.read_csv(metadata_path, low_memory=False)\n",
    "model = SentenceTransformer(\"..\\\\local_minilm_l6_v2\")"
   ]
  },
  {
   "cell_type": "markdown",
   "id": "c54ccff0",
   "metadata": {},
   "source": [
    "We are importing table:\n",
    "check.csv - A table that is created in helpers/create-check-table.py\n",
    "The same table is after finishing this code again updated with innography information using script helpers/table-to-check.py\n",
    "\n",
    "In this part we are retrieving top 10 retrieved patent_ids based on the claim. The ten patents are unique patents (we ignore the repeated patents and therefore we are retrieving 50 ids, then picking top 10 based on the distance), where the first one is supposed to be a patent whose claim is used as a query.\n",
    "\n",
    "Then this table is used in helpers/table-to-check.py to see how many of 10 retrieved patents are found in 100 patents that are retrieved from Innography.\n"
   ]
  },
  {
   "cell_type": "code",
   "execution_count": 12,
   "id": "812e5414",
   "metadata": {},
   "outputs": [
    {
     "name": "stdout",
     "output_type": "stream",
     "text": [
      "Retrieval done.\n"
     ]
    }
   ],
   "source": [
    "df = pd.read_csv(\"..\\\\result tables\\\\check1.csv\")\n",
    "\n",
    "k = 10\n",
    "\n",
    "retrieved_ids = []\n",
    "found_itself_flags = []\n",
    "\n",
    "for i, row in df.iterrows():\n",
    "    claim = row['claim']\n",
    "    true_patent_id = str(row['patent_id']).strip()\n",
    "\n",
    "    if pd.isna(claim) or not claim.strip():\n",
    "        retrieved_ids.append(\"\")\n",
    "        found_itself_flags.append(\"N\")\n",
    "        continue\n",
    "\n",
    "    search_k = k * 5 \n",
    "    query_embedding = model.encode([claim], normalize_embeddings=True)\n",
    "    distances, indices = index.search(query_embedding.astype(\"float32\"), search_k)\n",
    "    \n",
    "    top_k_metadata = metadata.iloc[indices[0]]\n",
    "    all_ids = top_k_metadata['patent_id'].astype(str)\n",
    "\n",
    "    unique_ids = list(dict.fromkeys(all_ids))[:k]\n",
    "    \n",
    "    retrieved_ids.append(\" | \".join(unique_ids))\n",
    "    found_itself_flags.append(\"Y\" if true_patent_id in unique_ids else \"N\")\n",
    "\n",
    "\n",
    "df['top 10 retrieved patents'] = retrieved_ids\n",
    "df['found itself (Y/N)'] = found_itself_flags\n",
    "\n",
    "df.to_csv(\"..\\\\result tables\\\\check2_with_retrieved_cos.csv\", index=False)\n",
    "\n",
    "print(\"Retrieval done.\")"
   ]
  },
  {
   "cell_type": "markdown",
   "id": "9f7d6a40",
   "metadata": {},
   "source": [
    "Due to memory issues, to change index (cosine or distance), it is required to first delete the loaded index, and then reload again the desired index."
   ]
  },
  {
   "cell_type": "code",
   "execution_count": null,
   "id": "2f858071",
   "metadata": {},
   "outputs": [],
   "source": [
    "\n",
    "try:\n",
    "    del index\n",
    "except NameError:\n",
    "    pass\n",
    "\n",
    "gc.collect()\n",
    "\n",
    "index = faiss.read_index(l2_index)"
   ]
  }
 ],
 "metadata": {
  "kernelspec": {
   "display_name": "Python 3 (patent-env)",
   "language": "python",
   "name": "patent-env"
  },
  "language_info": {
   "codemirror_mode": {
    "name": "ipython",
    "version": 3
   },
   "file_extension": ".py",
   "mimetype": "text/x-python",
   "name": "python",
   "nbconvert_exporter": "python",
   "pygments_lexer": "ipython3",
   "version": "3.13.5"
  }
 },
 "nbformat": 4,
 "nbformat_minor": 5
}
