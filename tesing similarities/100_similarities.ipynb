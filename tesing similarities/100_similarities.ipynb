{
 "cells": [
  {
   "cell_type": "code",
   "execution_count": 23,
   "id": "45fd36e5",
   "metadata": {},
   "outputs": [],
   "source": [
    "import faiss\n",
    "import pandas as pd\n",
    "from sentence_transformers import SentenceTransformer\n",
    "import re"
   ]
  },
  {
   "cell_type": "code",
   "execution_count": 27,
   "id": "a63a928c",
   "metadata": {},
   "outputs": [],
   "source": [
    "df_100 = pd.read_csv(\"../result tables/test 1 (1).csv\", encoding=\"latin1\")"
   ]
  },
  {
   "cell_type": "code",
   "execution_count": 11,
   "id": "dad4bc53",
   "metadata": {},
   "outputs": [
    {
     "name": "stderr",
     "output_type": "stream",
     "text": [
      "C:\\Users\\Admin\\AppData\\Local\\Temp\\ipykernel_20268\\124690261.py:2: DtypeWarning: Columns (0) have mixed types. Specify dtype option on import or set low_memory=False.\n",
      "  metadata = pd.read_csv(\"E:\\\\Meliha-Patenti\\\\metadata_all.csv\")\n"
     ]
    }
   ],
   "source": [
    "index = faiss.read_index(\"E:\\\\Meliha-Patenti\\\\index\\\\faiss_index_ivf_cosine.bin\")\n",
    "metadata = pd.read_csv(\"E:\\\\Meliha-Patenti\\\\metadata_all.csv\")"
   ]
  },
  {
   "cell_type": "code",
   "execution_count": 28,
   "id": "9eb10222",
   "metadata": {},
   "outputs": [
    {
     "name": "stdout",
     "output_type": "stream",
     "text": [
      "Index(['Publication Number'], dtype='object')\n"
     ]
    }
   ],
   "source": [
    "df_100 = df_100[['Publication Number']]\n",
    "\n",
    "\n",
    "print(df_100.columns)"
   ]
  },
  {
   "cell_type": "code",
   "execution_count": 21,
   "id": "27f3de07",
   "metadata": {},
   "outputs": [],
   "source": [
    "def extract_pub_number_core(pub_num):\n",
    "    \"\"\"\n",
    "    Remove first 2 letters, remove last letter and everything after it.\n",
    "    Example: 'US20230012345A1' -> '20230012345'\n",
    "    \"\"\"\n",
    "    if pd.isna(pub_num): return None\n",
    "    s = str(pub_num).strip().upper()\n",
    "    \n",
    "    # Remove the first 2 letters (country code)\n",
    "    if len(s) < 5: return None\n",
    "    s = s[2:]\n",
    "\n",
    "    # Remove everything from the last letter onward (A1, B2, etc.)\n",
    "    last_letter_match = re.search(r\"[A-Z](?!.*[A-Z])\", s)\n",
    "    if last_letter_match:\n",
    "        last_letter_idx = last_letter_match.start()\n",
    "        s = s[:last_letter_idx]\n",
    "\n",
    "    return s if s.isdigit() else re.sub(r\"\\D\", \"\", s)\n"
   ]
  },
  {
   "cell_type": "code",
   "execution_count": 39,
   "id": "657b951d",
   "metadata": {},
   "outputs": [],
   "source": [
    "df_100[\"patent_id\"] = df_100[\"Publication Number\"].apply(extract_pub_number_core).astype(str)\n",
    "metadata['patent_id'] = metadata['patent_id'].astype(str)"
   ]
  },
  {
   "cell_type": "code",
   "execution_count": 40,
   "id": "01138d25",
   "metadata": {},
   "outputs": [],
   "source": [
    "joined = df_100.merge(\n",
    "    metadata[[\"patent_id\", \"cleaned_claim\"]],\n",
    "    on=\"patent_id\",\n",
    "    how=\"left\",\n",
    "    validate=\"one_to_many\"\n",
    ")"
   ]
  },
  {
   "cell_type": "code",
   "execution_count": 42,
   "id": "caf6d2dc",
   "metadata": {},
   "outputs": [],
   "source": [
    "joined.to_csv('top100_with_claims.csv', index=False)"
   ]
  },
  {
   "cell_type": "code",
   "execution_count": 45,
   "id": "9b12cb80",
   "metadata": {},
   "outputs": [
    {
     "data": {
      "text/html": [
       "<div>\n",
       "<style scoped>\n",
       "    .dataframe tbody tr th:only-of-type {\n",
       "        vertical-align: middle;\n",
       "    }\n",
       "\n",
       "    .dataframe tbody tr th {\n",
       "        vertical-align: top;\n",
       "    }\n",
       "\n",
       "    .dataframe thead th {\n",
       "        text-align: right;\n",
       "    }\n",
       "</style>\n",
       "<table border=\"1\" class=\"dataframe\">\n",
       "  <thead>\n",
       "    <tr style=\"text-align: right;\">\n",
       "      <th></th>\n",
       "      <th>Publication Number</th>\n",
       "      <th>patent_id</th>\n",
       "      <th>cleaned_claim</th>\n",
       "    </tr>\n",
       "  </thead>\n",
       "  <tbody>\n",
       "    <tr>\n",
       "      <th>0</th>\n",
       "      <td>US8442755</td>\n",
       "      <td>8442755</td>\n",
       "      <td>1. A system for a motor vehicle including a mo...</td>\n",
       "    </tr>\n",
       "    <tr>\n",
       "      <th>1</th>\n",
       "      <td>US8442755</td>\n",
       "      <td>8442755</td>\n",
       "      <td>11. A system for a motor vehicle including a m...</td>\n",
       "    </tr>\n",
       "    <tr>\n",
       "      <th>2</th>\n",
       "      <td>US8442755</td>\n",
       "      <td>8442755</td>\n",
       "      <td>17. A method carried-out by a vehicular system...</td>\n",
       "    </tr>\n",
       "    <tr>\n",
       "      <th>3</th>\n",
       "      <td>US7712819</td>\n",
       "      <td>7712819</td>\n",
       "      <td>5. A door for a motor vehicle comprising: a su...</td>\n",
       "    </tr>\n",
       "    <tr>\n",
       "      <th>4</th>\n",
       "      <td>US7712819</td>\n",
       "      <td>7712819</td>\n",
       "      <td>1. A door for a motor vehicle comprising: a su...</td>\n",
       "    </tr>\n",
       "    <tr>\n",
       "      <th>...</th>\n",
       "      <td>...</td>\n",
       "      <td>...</td>\n",
       "      <td>...</td>\n",
       "    </tr>\n",
       "    <tr>\n",
       "      <th>205</th>\n",
       "      <td>US5865496</td>\n",
       "      <td>5865496</td>\n",
       "      <td>44. A door structure of a motor vehicle having...</td>\n",
       "    </tr>\n",
       "    <tr>\n",
       "      <th>206</th>\n",
       "      <td>US5865496</td>\n",
       "      <td>5865496</td>\n",
       "      <td>33. A door structure of a motor vehicle having...</td>\n",
       "    </tr>\n",
       "    <tr>\n",
       "      <th>207</th>\n",
       "      <td>US5865496</td>\n",
       "      <td>5865496</td>\n",
       "      <td>1. A door structure of a motor vehicle having ...</td>\n",
       "    </tr>\n",
       "    <tr>\n",
       "      <th>208</th>\n",
       "      <td>US20120036780</td>\n",
       "      <td>20120036780</td>\n",
       "      <td>NaN</td>\n",
       "    </tr>\n",
       "    <tr>\n",
       "      <th>209</th>\n",
       "      <td>US20100253116</td>\n",
       "      <td>20100253116</td>\n",
       "      <td>NaN</td>\n",
       "    </tr>\n",
       "  </tbody>\n",
       "</table>\n",
       "<p>210 rows × 3 columns</p>\n",
       "</div>"
      ],
      "text/plain": [
       "    Publication Number    patent_id  \\\n",
       "0            US8442755      8442755   \n",
       "1            US8442755      8442755   \n",
       "2            US8442755      8442755   \n",
       "3            US7712819      7712819   \n",
       "4            US7712819      7712819   \n",
       "..                 ...          ...   \n",
       "205          US5865496      5865496   \n",
       "206          US5865496      5865496   \n",
       "207          US5865496      5865496   \n",
       "208      US20120036780  20120036780   \n",
       "209      US20100253116  20100253116   \n",
       "\n",
       "                                         cleaned_claim  \n",
       "0    1. A system for a motor vehicle including a mo...  \n",
       "1    11. A system for a motor vehicle including a m...  \n",
       "2    17. A method carried-out by a vehicular system...  \n",
       "3    5. A door for a motor vehicle comprising: a su...  \n",
       "4    1. A door for a motor vehicle comprising: a su...  \n",
       "..                                                 ...  \n",
       "205  44. A door structure of a motor vehicle having...  \n",
       "206  33. A door structure of a motor vehicle having...  \n",
       "207  1. A door structure of a motor vehicle having ...  \n",
       "208                                                NaN  \n",
       "209                                                NaN  \n",
       "\n",
       "[210 rows x 3 columns]"
      ]
     },
     "execution_count": 45,
     "metadata": {},
     "output_type": "execute_result"
    }
   ],
   "source": [
    "joined"
   ]
  },
  {
   "cell_type": "code",
   "execution_count": 46,
   "id": "88a7155f",
   "metadata": {},
   "outputs": [
    {
     "data": {
      "text/plain": [
       "'1. A system for a motor vehicle including a motor vehicle side door and an outside rear view mirror, the system comprising: a door motor coupled to the motor vehicle side door and configured to selectively prevent movement of the motor vehicle side door toward a fully open position; a camera coupled to the outside rear view mirror and positioned to monitor an area external to the vehicle and adjacent the motor vehicle side door, the camera configured to determine a first distance between the motor vehicle side door and an obstacle detected within the monitored area; a motor controller operatively coupled to the door motor and configured to selectively disable the motor vehicle side door by commanding the door motor to prevent movement of the motor vehicle side door toward the fully open position; and a processor operatively coupled to the camera and to the motor controller, the processor configured to transmit a signal to the motor controller to disable the motor vehicle side door if the first distance is within a first threshold distance of the motor vehicle side door.'"
      ]
     },
     "execution_count": 46,
     "metadata": {},
     "output_type": "execute_result"
    }
   ],
   "source": [
    "query_claim = joined.loc[0, 'cleaned_claim']\n",
    "\n",
    "query_claim"
   ]
  },
  {
   "cell_type": "code",
   "execution_count": null,
   "id": "053f63d2",
   "metadata": {},
   "outputs": [
    {
     "name": "stdout",
     "output_type": "stream",
     "text": [
      "🔍 Searching entire FAISS index...\n",
      "✅ Done. Saved similarities to similarities_first_vs_top100.csv\n"
     ]
    },
    {
     "ename": "NameError",
     "evalue": "name 'CLAIM_COLUMN' is not defined",
     "output_type": "error",
     "traceback": [
      "\u001b[31m---------------------------------------------------------------------------\u001b[39m",
      "\u001b[31mNameError\u001b[39m                                 Traceback (most recent call last)",
      "\u001b[36mCell\u001b[39m\u001b[36m \u001b[39m\u001b[32mIn[47]\u001b[39m\u001b[32m, line 46\u001b[39m\n\u001b[32m     43\u001b[39m results_filtered.to_csv(\u001b[33m\"\u001b[39m\u001b[33msimilarities_first_vs_top100.csv\u001b[39m\u001b[33m\"\u001b[39m, index=\u001b[38;5;28;01mFalse\u001b[39;00m)\n\u001b[32m     45\u001b[39m \u001b[38;5;28mprint\u001b[39m(\u001b[33mf\u001b[39m\u001b[33m\"\u001b[39m\u001b[33m✅ Done. Saved similarities to similarities_first_vs_top100.csv\u001b[39m\u001b[33m\"\u001b[39m)\n\u001b[32m---> \u001b[39m\u001b[32m46\u001b[39m \u001b[38;5;28mprint\u001b[39m(results_filtered.head(\u001b[32m10\u001b[39m)[[\u001b[33m\"\u001b[39m\u001b[33mpatent_id\u001b[39m\u001b[33m\"\u001b[39m, \u001b[33m\"\u001b[39m\u001b[33msimilarity\u001b[39m\u001b[33m\"\u001b[39m, \u001b[43mCLAIM_COLUMN\u001b[49m]])\n",
      "\u001b[31mNameError\u001b[39m: name 'CLAIM_COLUMN' is not defined"
     ]
    }
   ],
   "source": [
    "model = SentenceTransformer(\"..\\\\local_minilm_l6_v2\")\n",
    "\n",
    "q_vec = model.encode([query_claim], normalize_embeddings=True).astype(\"float32\")\n",
    "\n",
    "# ========================\n",
    "# SEARCH ENTIRE INDEX\n",
    "# ========================\n",
    "print(\"🔍 Searching entire FAISS index...\")\n",
    "distances, indices = index.search(q_vec, index.ntotal)\n",
    "\n",
    "# Flatten\n",
    "indices = indices[0]\n",
    "distances = distances[0]\n",
    "\n",
    "# ========================\n",
    "# MAP BACK TO METADATA\n",
    "# ========================\n",
    "results = metadata.iloc[indices].copy()\n",
    "results[\"similarity\"] = distances\n",
    "\n",
    "# Optional: normalize patent_id for matching\n",
    "def normalize_id(x):\n",
    "    if pd.isna(x): return None\n",
    "    s = str(x).upper().strip()\n",
    "    s = re.sub(r\"[^A-Z0-9]\", \"\", s)\n",
    "    s = re.sub(r\"^([A-Z]{2,3})0*\", \"\", s)\n",
    "    s = re.sub(r\"[A-Z].*$\", \"\", s)\n",
    "    return s\n",
    "\n",
    "metadata[\"norm_id\"] = metadata[\"patent_id\"].apply(normalize_id)\n",
    "joined[\"norm_id\"] = df_100[\"patent_id\"].apply(normalize_id)\n",
    "results[\"norm_id\"] = results[\"patent_id\"].apply(normalize_id)\n",
    "\n",
    "# ========================\n",
    "# FILTER TO ONLY TOP100 PATENTS\n",
    "# ========================\n",
    "results_filtered = results[results[\"norm_id\"].isin(joined[\"norm_id\"])]\n",
    "\n",
    "# ========================\n",
    "# SAVE RESULTS\n",
    "# ========================\n",
    "results_filtered = results_filtered.sort_values(\"similarity\", ascending=False).reset_index(drop=True)\n",
    "results_filtered.to_csv(\"similarities_first_vs_top100.csv\", index=False)\n",
    "\n",
    "print(f\"✅ Done. Saved similarities to similarities_first_vs_top100.csv\")\n",
    "print(results_filtered.head(10)[[\"patent_id\", \"similarity\", 'cleaned_claim']])"
   ]
  },
  {
   "cell_type": "code",
   "execution_count": 51,
   "id": "cb8c20f4",
   "metadata": {},
   "outputs": [],
   "source": [
    "df_100 = joined"
   ]
  },
  {
   "cell_type": "code",
   "execution_count": 52,
   "id": "04ad7c8d",
   "metadata": {},
   "outputs": [
    {
     "name": "stdout",
     "output_type": "stream",
     "text": [
      "Unique norm_id in top100: 100\n",
      "Unique norm_id in metadata: 8328376\n",
      "IDs in top100 not found in metadata: 40\n",
      "['20030101781', '20030218356', '20030230910', '20040055110', '20040113456', '20040201277', '20050057047', '20050085972', '20060055184', '20060249982', '20060254142', '20070107314', '20070136987', '20070146120', '20070175099', '20080030045', '20080122257', '20080217956', '20080246294', '20080258495']\n"
     ]
    }
   ],
   "source": [
    "top100_ids = set(df_100[\"norm_id\"].dropna().astype(str))\n",
    "metadata_ids = set(metadata[\"norm_id\"].dropna().astype(str))\n",
    "\n",
    "missing_ids = sorted(top100_ids - metadata_ids)\n",
    "\n",
    "print(f\"Unique norm_id in top100: {len(top100_ids)}\")\n",
    "print(f\"Unique norm_id in metadata: {len(metadata_ids)}\")\n",
    "print(f\"IDs in top100 not found in metadata: {len(missing_ids)}\")\n",
    "print(missing_ids[:20])  # first 20\n"
   ]
  },
  {
   "cell_type": "code",
   "execution_count": 54,
   "id": "e201f598",
   "metadata": {},
   "outputs": [],
   "source": [
    "CLAIM_COL = 'cleaned_claim'"
   ]
  },
  {
   "cell_type": "code",
   "execution_count": 56,
   "id": "f2f57fe0",
   "metadata": {},
   "outputs": [
    {
     "name": "stdout",
     "output_type": "stream",
     "text": [
      "✅ Done. Saved to similarity_first_vs_all.csv\n",
      "  patent_id                                      cleaned_claim  \\\n",
      "0   8442755  1. A system for a motor vehicle including a mo...   \n",
      "1   8442755  11. A system for a motor vehicle including a m...   \n",
      "2   8442755  17. A method carried-out by a vehicular system...   \n",
      "3   7193509  1. A door system for a motor vehicle, comprisi...   \n",
      "4   9797181  5. A system for a vehicle, the system comprisi...   \n",
      "5   8373550  22. A system for motorizing at least one door ...   \n",
      "6   5008603  1. A system for controlling a position of fold...   \n",
      "7   9797181  1. A system for a vehicle, the system comprisi...   \n",
      "8   7761209  12. A vehicle, comprising: a vehicle body; a d...   \n",
      "9   7438346  23. A vehicle, comprising: a door frame; a doo...   \n",
      "\n",
      "   similarity_to_first  \n",
      "0             1.000000  \n",
      "1             0.845720  \n",
      "2             0.745241  \n",
      "3             0.702872  \n",
      "4             0.701225  \n",
      "5             0.700897  \n",
      "6             0.693432  \n",
      "7             0.690008  \n",
      "8             0.689464  \n",
      "9             0.679006  \n"
     ]
    }
   ],
   "source": [
    "from sklearn.metrics.pairwise import cosine_similarity\n",
    "\n",
    "# Make sure CLAIM_COL is all strings and no NaNs\n",
    "joined = joined[joined[CLAIM_COL].notna()].reset_index(drop=True)\n",
    "joined[CLAIM_COL] = joined[CLAIM_COL].astype(str)\n",
    "joined = joined[joined[CLAIM_COL].str.strip() != \"\"]\n",
    "\n",
    "# Encode the query (first row's claim)\n",
    "query_claim = joined.loc[0, CLAIM_COL]\n",
    "query_vec = model.encode([query_claim], normalize_embeddings=True)\n",
    "\n",
    "# Encode all claims\n",
    "all_vecs = model.encode(joined[CLAIM_COL].tolist(), normalize_embeddings=True)\n",
    "\n",
    "# Compute cosine similarity\n",
    "sims = cosine_similarity(query_vec, all_vecs)[0]\n",
    "\n",
    "# Add similarity column\n",
    "joined[\"similarity_to_first\"] = sims\n",
    "\n",
    "# Sort\n",
    "df_sorted = joined.sort_values(\"similarity_to_first\", ascending=False).reset_index(drop=True)\n",
    "\n",
    "# Save results\n",
    "df_sorted.to_csv(\"similarity_first_vs_all.csv\", index=False)\n",
    "\n",
    "print(\"✅ Done. Saved to similarity_first_vs_all.csv\")\n",
    "print(df_sorted.head(10)[[\"patent_id\", CLAIM_COL, \"similarity_to_first\"]])\n"
   ]
  },
  {
   "cell_type": "code",
   "execution_count": 57,
   "id": "c3a7b800",
   "metadata": {},
   "outputs": [
    {
     "name": "stdout",
     "output_type": "stream",
     "text": [
      "Retrieval + similarity logging done.\n"
     ]
    }
   ],
   "source": [
    "import pandas as pd\n",
    "import numpy as np\n",
    "\n",
    "df = pd.read_csv(\"..\\\\result tables\\\\check1.csv\")\n",
    "k = 10\n",
    "\n",
    "retrieved_ids = []\n",
    "found_itself_flags = []\n",
    "retrieved_sims = []  # NEW: similarities for each retrieved ID\n",
    "\n",
    "for i, row in df.iterrows():\n",
    "    claim = row['claim']\n",
    "    true_patent_id = str(row['patent_id']).strip()\n",
    "\n",
    "    if pd.isna(claim) or not claim.strip():\n",
    "        retrieved_ids.append(\"\")\n",
    "        found_itself_flags.append(\"N\")\n",
    "        retrieved_sims.append(\"\")  # keep same length\n",
    "        continue\n",
    "\n",
    "    search_k = k * 5 \n",
    "    query_embedding = model.encode([claim], normalize_embeddings=True)\n",
    "\n",
    "    distances, indices = index.search(query_embedding.astype(\"float32\"), search_k)\n",
    "    \n",
    "    top_k_metadata = metadata.iloc[indices[0]]\n",
    "    all_ids = top_k_metadata['patent_id'].astype(str)\n",
    "    all_sims = distances[0]\n",
    "\n",
    "    # Keep unique IDs with their first similarity score\n",
    "    unique_ids = []\n",
    "    unique_sims = []\n",
    "    seen = set()\n",
    "    for pid, sim in zip(all_ids, all_sims):\n",
    "        if pid not in seen:\n",
    "            seen.add(pid)\n",
    "            unique_ids.append(pid)\n",
    "            unique_sims.append(f\"{sim:.4f}\")  # format to 4 decimals\n",
    "        if len(unique_ids) == k:\n",
    "            break\n",
    "\n",
    "    retrieved_ids.append(\" | \".join(unique_ids))\n",
    "    retrieved_sims.append(\" | \".join(unique_sims))\n",
    "    found_itself_flags.append(\"Y\" if true_patent_id in unique_ids else \"N\")\n",
    "\n",
    "df['top 10 retrieved patents'] = retrieved_ids\n",
    "df['similarities_top10'] = retrieved_sims  # NEW column\n",
    "df['found itself (Y/N)'] = found_itself_flags\n",
    "\n",
    "df.to_csv(\"..\\\\check2_with_retrieved_cos.csv\", index=False)\n",
    "print(\"Retrieval + similarity logging done.\")\n"
   ]
  },
  {
   "cell_type": "code",
   "execution_count": null,
   "id": "480708eb",
   "metadata": {},
   "outputs": [],
   "source": []
  }
 ],
 "metadata": {
  "kernelspec": {
   "display_name": "Python 3 (patent-env)",
   "language": "python",
   "name": "patent-env"
  },
  "language_info": {
   "codemirror_mode": {
    "name": "ipython",
    "version": 3
   },
   "file_extension": ".py",
   "mimetype": "text/x-python",
   "name": "python",
   "nbconvert_exporter": "python",
   "pygments_lexer": "ipython3",
   "version": "3.13.5"
  }
 },
 "nbformat": 4,
 "nbformat_minor": 5
}
